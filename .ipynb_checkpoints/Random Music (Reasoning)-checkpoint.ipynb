{
 "cells": [
  {
   "cell_type": "code",
   "execution_count": 1,
   "metadata": {},
   "outputs": [],
   "source": [
    "%load_ext autoreload\n",
    "%autoreload 2"
   ]
  },
  {
   "cell_type": "code",
   "execution_count": 2,
   "metadata": {},
   "outputs": [],
   "source": [
    "from collections import defaultdict\n",
    "from fuzzywuzzy import fuzz\n",
    "from tqdm import tqdm, tqdm_notebook\n",
    "import random \n",
    "import numpy as np\n",
    "\n",
    "from sklearn.feature_extraction.text import CountVectorizer\n",
    "from sklearn.multiclass import OneVsRestClassifier\n",
    "from sklearn.preprocessing import MultiLabelBinarizer, LabelEncoder\n",
    "from sklearn.svm import SVC\n",
    "from sklearn.linear_model import LinearRegression, LogisticRegression\n",
    "\n",
    "from knowledge_graph import KG\n",
    "from task_utils import *"
   ]
  },
  {
   "cell_type": "code",
   "execution_count": 3,
   "metadata": {},
   "outputs": [
    {
     "name": "stdout",
     "output_type": "stream",
     "text": [
      "Loading data from ../data/uniform/usage...\n",
      "Loaded 369667 triples.\n"
     ]
    }
   ],
   "source": [
    "kg = KG(\"data/uniform/usage\")"
   ]
  },
  {
   "cell_type": "code",
   "execution_count": 5,
   "metadata": {},
   "outputs": [
    {
     "name": "stdout",
     "output_type": "stream",
     "text": [
      "Task: genre\n",
      "genre (train): 1054 samples\n",
      "genre (valid): 132 samples\n",
      "genre (test): 132 samples\n",
      "\n",
      "Task: type\n",
      "type (train): 13265 samples\n",
      "type (valid): 1658 samples\n",
      "type (test): 1659 samples\n",
      "\n"
     ]
    }
   ],
   "source": [
    "kg.load_tasks()"
   ]
  },
  {
   "cell_type": "markdown",
   "metadata": {},
   "source": [
    "## Task 1: Genre Prediction\n"
   ]
  },
  {
   "cell_type": "code",
   "execution_count": 6,
   "metadata": {},
   "outputs": [],
   "source": [
    "# construct feature dictionaries \n",
    "xtr = kg.tasks['genre']['train']['X']\n",
    "ytr = kg.tasks['genre']['train']['Y']\n",
    "\n",
    "xts = kg.tasks['genre']['test']['X']\n",
    "yts = kg.tasks['genre']['test']['Y']"
   ]
  },
  {
   "cell_type": "code",
   "execution_count": 7,
   "metadata": {},
   "outputs": [
    {
     "name": "stderr",
     "output_type": "stream",
     "text": [
      "100%|██████████| 38718/38718 [00:00<00:00, 1283146.83it/s]\n",
      "100%|██████████| 8188/8188 [00:00<00:00, 1275599.34it/s]\n"
     ]
    }
   ],
   "source": [
    "# featurize training data\n",
    "train_dict = defaultdict(list) # entity -> list of \"$feature $value\" \n",
    "triples = kg.filter_triples(head_filter=xtr)\n",
    "for head, arc, tail, tail_type, _ in tqdm(triples):\n",
    "    if tail_type == \"entity\":\n",
    "        continue \n",
    "    train_dict[head].append(\"%s %s\" % (arc, tail))\n",
    "\n",
    "train_sent = []\n",
    "for entity in xtr:\n",
    "    val_list = train_dict[entity]\n",
    "    train_sent.append(' '.join(val_list))\n",
    "    \n",
    "# featurize test data\n",
    "test_dict = defaultdict(list) # entity -> list of \"$feature $value\" \n",
    "triples = kg.filter_triples(head_filter=xts)\n",
    "for head, arc, tail, tail_type, _ in tqdm(triples):\n",
    "    if tail_type == \"entity\":\n",
    "        continue \n",
    "    test_dict[head].append(\"%s %s\" % (arc, tail))\n",
    "\n",
    "test_sent = []\n",
    "for entity in xts:\n",
    "    val_list = test_dict[entity]\n",
    "    test_sent.append(' '.join(val_list))\n",
    "\n",
    "\n",
    "# vectorize features\n",
    "vectorizer = CountVectorizer(ngram_range=(1, 2))\n",
    "Xtr = vectorizer.fit_transform(train_sent)\n",
    "Xts = vectorizer.transform(test_sent)\n",
    "\n",
    "# convert grades to labels\n",
    "le = LabelEncoder()\n",
    "Ytr = le.fit_transform(ytr)\n",
    "Yts = le.transform(yts)"
   ]
  },
  {
   "cell_type": "code",
   "execution_count": 8,
   "metadata": {},
   "outputs": [],
   "source": [
    "model = LogisticRegression().fit(Xtr, Ytr)\n",
    "predictions = model.predict(Xts)"
   ]
  },
  {
   "cell_type": "code",
   "execution_count": 9,
   "metadata": {},
   "outputs": [
    {
     "name": "stdout",
     "output_type": "stream",
     "text": [
      "Accuracy: 0.287879\n"
     ]
    }
   ],
   "source": [
    "accuracy = evaluate_multi_classification(Yts, predictions)\n",
    "print(\"Accuracy: %f\" % accuracy)"
   ]
  },
  {
   "cell_type": "markdown",
   "metadata": {},
   "source": [
    "## Task 2: Type Prediction\n"
   ]
  },
  {
   "cell_type": "code",
   "execution_count": 14,
   "metadata": {},
   "outputs": [],
   "source": [
    "# construct feature dictionaries \n",
    "xtr = kg.tasks['type']['train']['X']\n",
    "ytr = kg.tasks['type']['train']['Y']\n",
    "\n",
    "xts = kg.tasks['type']['test']['X']\n",
    "yts = kg.tasks['type']['test']['Y']"
   ]
  },
  {
   "cell_type": "code",
   "execution_count": 15,
   "metadata": {},
   "outputs": [
    {
     "name": "stderr",
     "output_type": "stream",
     "text": [
      "100%|██████████| 204659/204659 [00:00<00:00, 1393564.14it/s]\n",
      "100%|██████████| 40843/40843 [00:00<00:00, 956002.27it/s]\n"
     ]
    }
   ],
   "source": [
    "# featurize training data\n",
    "train_dict = defaultdict(list) # entity -> list of \"$feature $value\" \n",
    "triples = kg.filter_triples(head_filter=xtr)\n",
    "for head, arc, tail, tail_type, _ in tqdm(triples):\n",
    "    if tail_type == \"entity\":\n",
    "        continue \n",
    "    train_dict[head].append(\"%s %s\" % (arc, tail))\n",
    "\n",
    "train_sent = []\n",
    "for entity in xtr:\n",
    "    val_list = train_dict[entity]\n",
    "    train_sent.append(' '.join(val_list))\n",
    "    \n",
    "# featurize test data\n",
    "test_dict = defaultdict(list) # entity -> list of \"$feature $value\" \n",
    "triples = kg.filter_triples(head_filter=xts)\n",
    "for head, arc, tail, tail_type, _ in tqdm(triples):\n",
    "    if tail_type == \"entity\":\n",
    "        continue \n",
    "    test_dict[head].append(\"%s %s\" % (arc, tail))\n",
    "\n",
    "test_sent = []\n",
    "for entity in xts:\n",
    "    val_list = test_dict[entity]\n",
    "    test_sent.append(' '.join(val_list))\n",
    "\n",
    "\n",
    "# vectorize features\n",
    "vectorizer = CountVectorizer(ngram_range=(1, 2))\n",
    "Xtr = vectorizer.fit_transform(train_sent)\n",
    "Xts = vectorizer.transform(test_sent)\n",
    "\n",
    "# convert grades to labels\n",
    "le = LabelEncoder()\n",
    "Ytr = le.fit_transform(ytr)\n",
    "Yts = le.transform(yts)"
   ]
  },
  {
   "cell_type": "code",
   "execution_count": 16,
   "metadata": {},
   "outputs": [],
   "source": [
    "model = LogisticRegression().fit(Xtr, Ytr)\n",
    "predictions = model.predict(Xts)"
   ]
  },
  {
   "cell_type": "code",
   "execution_count": 17,
   "metadata": {},
   "outputs": [
    {
     "name": "stdout",
     "output_type": "stream",
     "text": [
      "Accuracy: 0.690175\n"
     ]
    }
   ],
   "source": [
    "accuracy = evaluate_multi_classification(Yts, predictions)\n",
    "print(\"Accuracy: %f\" % accuracy)"
   ]
  }
 ],
 "metadata": {
  "kernelspec": {
   "display_name": "Python 3",
   "language": "python",
   "name": "python3"
  },
  "language_info": {
   "codemirror_mode": {
    "name": "ipython",
    "version": 3
   },
   "file_extension": ".py",
   "mimetype": "text/x-python",
   "name": "python",
   "nbconvert_exporter": "python",
   "pygments_lexer": "ipython3",
   "version": "3.6.4"
  }
 },
 "nbformat": 4,
 "nbformat_minor": 2
}
